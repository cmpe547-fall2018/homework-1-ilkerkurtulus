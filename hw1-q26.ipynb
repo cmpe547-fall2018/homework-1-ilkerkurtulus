{
 "cells": [
  {
   "cell_type": "code",
   "execution_count": 1,
   "metadata": {},
   "outputs": [],
   "source": [
    "import numpy as np\n",
    "import pandas as pd\n",
    "import matplotlib.pyplot as plt"
   ]
  },
  {
   "cell_type": "markdown",
   "metadata": {},
   "source": [
    "## 1)"
   ]
  },
  {
   "cell_type": "markdown",
   "metadata": {},
   "source": [
    "### Expectation of X"
   ]
  },
  {
   "cell_type": "code",
   "execution_count": 2,
   "metadata": {},
   "outputs": [],
   "source": [
    "def e_x(probability_table, variable_values):\n",
    "    lx = probability_table.shape[0]\n",
    "    ex = 0\n",
    "    for i in range(lx):\n",
    "        ex = ex + sum(p_table.iloc[i])*variable_values[0][i]\n",
    "    return ex"
   ]
  },
  {
   "cell_type": "markdown",
   "metadata": {},
   "source": [
    "### Expectation of Y"
   ]
  },
  {
   "cell_type": "code",
   "execution_count": 3,
   "metadata": {},
   "outputs": [],
   "source": [
    "def e_y(probability_table, variable_values):\n",
    "    ly = probability_table.shape[1]\n",
    "    ey = 0\n",
    "    for i in range(ly):\n",
    "        ey = ey + sum(p_table.T.iloc[i])*variable_values[1][i]\n",
    "    return ey"
   ]
  },
  {
   "cell_type": "markdown",
   "metadata": {},
   "source": [
    "### Conditinal Expectation of X "
   ]
  },
  {
   "cell_type": "code",
   "execution_count": 4,
   "metadata": {},
   "outputs": [],
   "source": [
    "def x_given_y(probability_table, variable_values):\n",
    "    lx = probability_table.shape[0]\n",
    "    ly = probability_table.shape[1]\n",
    "    xgy_list = list()\n",
    "    for j in range(ly):\n",
    "        xgy = 0\n",
    "        for i in range(lx):\n",
    "            xgy = xgy + (p_table.T.iloc[j,i] / sum(p_table.T.iloc[j])) * variable_values[0][i]\n",
    "        xgy_list.append(xgy)\n",
    "    return xgy_list"
   ]
  },
  {
   "cell_type": "markdown",
   "metadata": {},
   "source": [
    "### Conditinal Expectation of Y "
   ]
  },
  {
   "cell_type": "code",
   "execution_count": 5,
   "metadata": {},
   "outputs": [],
   "source": [
    "def y_given_x(probability_table, variable_values):\n",
    "    lx = probability_table.shape[0]\n",
    "    ly = probability_table.shape[1]\n",
    "    ygx_list = list()\n",
    "    for j in range(lx):\n",
    "        ygx = 0\n",
    "        for i in range(ly):\n",
    "            ygx = ygx + (p_table.iloc[j,i] / sum(p_table.iloc[j])) * variable_values[1][i]\n",
    "        ygx_list.append(ygx)\n",
    "    return ygx_list"
   ]
  },
  {
   "cell_type": "markdown",
   "metadata": {},
   "source": [
    "### Covariance of X and Y"
   ]
  },
  {
   "cell_type": "code",
   "execution_count": 6,
   "metadata": {},
   "outputs": [],
   "source": [
    "def cov_x_and_y(probability_table, variable_values):\n",
    "    lx = probability_table.shape[0]\n",
    "    ly = probability_table.shape[1]\n",
    "    covxy = 0\n",
    "    for i in range(lx):\n",
    "        for j in range(ly):\n",
    "            covxy = covxy + (variable_values[0][i] - e_x(p_table,variable_values))*(variable_values[1][j] - e_y(p_table,variable_values))*(probability_table.iloc[i,j])\n",
    "    return covxy"
   ]
  },
  {
   "cell_type": "markdown",
   "metadata": {},
   "source": [
    "## 2 ) Joint Entropy"
   ]
  },
  {
   "cell_type": "code",
   "execution_count": 7,
   "metadata": {},
   "outputs": [],
   "source": [
    "def entropy_joint(probability_table):\n",
    "    lx = probability_table.shape[0]\n",
    "    ly = probability_table.shape[1]\n",
    "    hxy = 0\n",
    "    for i in range(lx):\n",
    "        for j in range(ly):\n",
    "            if(probability_table.iloc[i,j]!=0):\n",
    "                hxy = hxy - np.log(probability_table.iloc[i,j])*probability_table.iloc[i,j]\n",
    "    return hxy"
   ]
  },
  {
   "cell_type": "markdown",
   "metadata": {},
   "source": [
    "## 3)"
   ]
  },
  {
   "cell_type": "markdown",
   "metadata": {},
   "source": [
    "### Marginal Entropy of X"
   ]
  },
  {
   "cell_type": "code",
   "execution_count": 8,
   "metadata": {},
   "outputs": [],
   "source": [
    "def entropy_x(probability_table, variable_values):\n",
    "    lx = probability_table.shape[0]\n",
    "    margex = 0\n",
    "    for i in range(lx):\n",
    "        if(sum(probability_table.iloc[i])!=0):\n",
    "            margex = margex - sum(probability_table.iloc[i])*np.log(sum(probability_table.iloc[i]))\n",
    "    return margex"
   ]
  },
  {
   "cell_type": "markdown",
   "metadata": {},
   "source": [
    "### Marginal Entropy of Y"
   ]
  },
  {
   "cell_type": "code",
   "execution_count": 9,
   "metadata": {},
   "outputs": [],
   "source": [
    "def entropy_y(probability_table, variable_values):\n",
    "    ly = probability_table.shape[1]\n",
    "    margey = 0\n",
    "    for i in range(ly):\n",
    "        if(sum(probability_table.iloc[:,i])!=0):\n",
    "            margey = margey - sum(probability_table.iloc[:,i])*np.log(sum(probability_table.iloc[:,i]))\n",
    "    return margey"
   ]
  },
  {
   "cell_type": "markdown",
   "metadata": {},
   "source": [
    "## 4)"
   ]
  },
  {
   "cell_type": "markdown",
   "metadata": {},
   "source": [
    "### Conditional Entropy: X|Y"
   ]
  },
  {
   "cell_type": "code",
   "execution_count": 10,
   "metadata": {},
   "outputs": [],
   "source": [
    "def entropy_x_given_y(probability_table):\n",
    "    lx = probability_table.shape[0]\n",
    "    ly = probability_table.shape[1]\n",
    "    probability_table2 = probability_table.copy()\n",
    "    for i in range(ly):\n",
    "        probability_table2.iloc[:,i] = probability_table.iloc[:,i] / probability_table.iloc[:,i].sum()\n",
    "    ehxy = 0\n",
    "    for i in range(lx):\n",
    "        for j in range(ly):\n",
    "            if(probability_table2.iloc[i,j]!=0):\n",
    "                ehxy = ehxy - np.log(probability_table2.iloc[i,j])*probability_table.iloc[i,j]\n",
    "    return ehxy"
   ]
  },
  {
   "cell_type": "markdown",
   "metadata": {},
   "source": [
    "### Conditional Entropy: Y|X"
   ]
  },
  {
   "cell_type": "code",
   "execution_count": 11,
   "metadata": {},
   "outputs": [],
   "source": [
    "def entropy_y_given_x(probability_table):\n",
    "    lx = probability_table.shape[0]\n",
    "    ly = probability_table.shape[1]\n",
    "    probability_table2 = probability_table.copy()\n",
    "    for i in range(lx):\n",
    "        probability_table2.iloc[i,:] = probability_table.iloc[i,:] / probability_table.iloc[i,:].sum()\n",
    "    ehyx = 0\n",
    "    for i in range(lx):\n",
    "        for j in range(ly):\n",
    "            if(probability_table2.iloc[i,j]!=0):\n",
    "                ehyx = ehyx - np.log(probability_table2.iloc[i,j])*probability_table.iloc[i,j]\n",
    "    return ehyx"
   ]
  },
  {
   "cell_type": "markdown",
   "metadata": {},
   "source": [
    "## 5) Mutual Information"
   ]
  },
  {
   "cell_type": "code",
   "execution_count": 12,
   "metadata": {},
   "outputs": [],
   "source": [
    "def mutual_information(probability_table,variable_values):\n",
    "    return entropy_x(probability_table, variable_values) - entropy_x_given_y(probability_table)"
   ]
  },
  {
   "cell_type": "markdown",
   "metadata": {},
   "source": [
    "## 6) Testing Program"
   ]
  },
  {
   "cell_type": "code",
   "execution_count": 13,
   "metadata": {},
   "outputs": [],
   "source": [
    "### Probability Table and variable values for 2d, first one is x, second of is y\n",
    "p_table = pd.DataFrame(list([[0.3,0.3,0], [0.1,0.2,0.1]]))\n",
    "variable_values = list([[1,2],[-1,0,5]])"
   ]
  },
  {
   "cell_type": "code",
   "execution_count": 14,
   "metadata": {
    "scrolled": true
   },
   "outputs": [
    {
     "data": {
      "text/html": [
       "<div>\n",
       "<style scoped>\n",
       "    .dataframe tbody tr th:only-of-type {\n",
       "        vertical-align: middle;\n",
       "    }\n",
       "\n",
       "    .dataframe tbody tr th {\n",
       "        vertical-align: top;\n",
       "    }\n",
       "\n",
       "    .dataframe thead th {\n",
       "        text-align: right;\n",
       "    }\n",
       "</style>\n",
       "<table border=\"1\" class=\"dataframe\">\n",
       "  <thead>\n",
       "    <tr style=\"text-align: right;\">\n",
       "      <th></th>\n",
       "      <th>0</th>\n",
       "      <th>1</th>\n",
       "      <th>2</th>\n",
       "    </tr>\n",
       "  </thead>\n",
       "  <tbody>\n",
       "    <tr>\n",
       "      <th>0</th>\n",
       "      <td>0.3</td>\n",
       "      <td>0.3</td>\n",
       "      <td>0.0</td>\n",
       "    </tr>\n",
       "    <tr>\n",
       "      <th>1</th>\n",
       "      <td>0.1</td>\n",
       "      <td>0.2</td>\n",
       "      <td>0.1</td>\n",
       "    </tr>\n",
       "  </tbody>\n",
       "</table>\n",
       "</div>"
      ],
      "text/plain": [
       "     0    1    2\n",
       "0  0.3  0.3  0.0\n",
       "1  0.1  0.2  0.1"
      ]
     },
     "execution_count": 14,
     "metadata": {},
     "output_type": "execute_result"
    }
   ],
   "source": [
    "p_table"
   ]
  },
  {
   "cell_type": "code",
   "execution_count": 15,
   "metadata": {},
   "outputs": [
    {
     "data": {
      "text/plain": [
       "[[1, 2], [-1, 0, 5]]"
      ]
     },
     "execution_count": 15,
     "metadata": {},
     "output_type": "execute_result"
    }
   ],
   "source": [
    "variable_values"
   ]
  },
  {
   "cell_type": "code",
   "execution_count": 16,
   "metadata": {},
   "outputs": [
    {
     "name": "stdout",
     "output_type": "stream",
     "text": [
      "<x> : 1.4\n",
      "<y> : 0.09999999999999998\n",
      "<x|y> : [1.25, 1.4, 2.0]\n",
      "<y|x> : [-0.5, 1.0]\n",
      "Cov[x,y] : 0.36000000000000004\n",
      "H[x,y] : 1.5047882836811908\n",
      "H[x] : 0.6730116670092565\n",
      "H[y] : 0.9433483923290391\n",
      "H[x|y] : 0.5614398913521517\n",
      "H[y|x] : 0.8317766166719344\n",
      "I(x,y) : 0.11157177565710485\n"
     ]
    }
   ],
   "source": [
    "print(\"<x> : \"  + str(e_x(p_table, variable_values)))\n",
    "print(\"<y> : \"  + str(e_y(p_table, variable_values)))\n",
    "print(\"<x|y> : \"  + str(x_given_y(p_table, variable_values)))\n",
    "print(\"<y|x> : \"  + str(y_given_x(p_table, variable_values)))\n",
    "print(\"Cov[x,y] : \"  + str(cov_x_and_y(p_table, variable_values)))\n",
    "print(\"H[x,y] : \"  + str(entropy_joint(p_table)))\n",
    "print(\"H[x] : \"  + str(entropy_x(p_table,variable_values)))\n",
    "print(\"H[y] : \"  + str(entropy_y(p_table,variable_values)))\n",
    "print(\"H[x|y] : \"  + str(entropy_x_given_y(p_table)))\n",
    "print(\"H[y|x] : \"  + str(entropy_y_given_x(p_table)))\n",
    "print(\"I(x,y) : \"  + str(mutual_information(p_table, variable_values)))"
   ]
  },
  {
   "cell_type": "markdown",
   "metadata": {},
   "source": [
    "## 7) Entropy Graph"
   ]
  },
  {
   "cell_type": "code",
   "execution_count": 17,
   "metadata": {},
   "outputs": [
    {
     "data": {
      "image/png": "[encoded data removed]",
      "text/plain": [
       "<Figure size 640x480 with 1 Axes>"
      ]
     },
     "metadata": {},
     "output_type": "display_data"
    }
   ],
   "source": [
    "plt.rcdefaults()\n",
    "fig, ax = plt.subplots()\n",
    "ax.barh(np.array([3,2,1,1,0,-1,-1,-2,-2]), np.array([entropy_joint(p_table),\n",
    "        entropy_x(p_table,variable_values),\n",
    "        entropy_joint(p_table),entropy_joint(p_table) - entropy_y(p_table,variable_values),\n",
    "        entropy_x_given_y(p_table),\n",
    "        entropy_x_given_y(p_table) + mutual_information(p_table, variable_values),\n",
    "        entropy_x_given_y(p_table),\n",
    "        entropy_x_given_y(p_table) + entropy_y_given_x(p_table) + mutual_information(p_table, variable_values),\n",
    "        entropy_x_given_y(p_table) + mutual_information(p_table, variable_values)]), \n",
    "        align='center', color=[\"green\",\"green\",\"green\",\"white\",\"green\",\"green\",\"white\",\"green\",\"white\"]) \n",
    "\n",
    "ax.set_yticklabels((\"\",\"H[y|x]\",\"I(X;Y)\",\"H[x|y]\",\"H[y]\",\"H[x]\",\"H[x,y]\"))\n",
    "plt.show()"
   ]
  },
  {
   "cell_type": "code",
   "execution_count": null,
   "metadata": {},
   "outputs": [],
   "source": []
  }
 ],
 "metadata": {
  "kernelspec": {
   "display_name": "Python 3",
   "language": "python",
   "name": "python3"
  },
  "language_info": {
   "codemirror_mode": {
    "name": "ipython",
    "version": 3
   },
   "file_extension": ".py",
   "mimetype": "text/x-python",
   "name": "python",
   "nbconvert_exporter": "python",
   "pygments_lexer": "ipython3",
   "version": "3.6.4"
  }
 },
 "nbformat": 4,
 "nbformat_minor": 2
}
